{
 "cells": [
  {
   "cell_type": "code",
   "execution_count": 1,
   "metadata": {},
   "outputs": [],
   "source": [
    "%matplotlib inline\n",
    "import matplotlib.pyplot as plt\n",
    "import numpy as np"
   ]
  },
  {
   "cell_type": "code",
   "execution_count": 2,
   "metadata": {},
   "outputs": [],
   "source": [
    "a = np.loadtxt('scores.txt', delimiter=',')"
   ]
  },
  {
   "cell_type": "code",
   "execution_count": 3,
   "metadata": {},
   "outputs": [
    {
     "data": {
      "text/plain": [
       "-0.9240899974225163"
      ]
     },
     "execution_count": 3,
     "metadata": {},
     "output_type": "execute_result"
    }
   ],
   "source": [
    "a.mean()"
   ]
  },
  {
   "cell_type": "code",
   "execution_count": 4,
   "metadata": {},
   "outputs": [
    {
     "data": {
      "text/plain": [
       "2.735574253792008"
      ]
     },
     "execution_count": 4,
     "metadata": {},
     "output_type": "execute_result"
    }
   ],
   "source": [
    "a.std()"
   ]
  },
  {
   "cell_type": "code",
   "execution_count": 5,
   "metadata": {},
   "outputs": [
    {
     "data": {
      "text/plain": [
       "(array([2.0000e+00, 3.0000e+00, 0.0000e+00, 3.0000e+00, 7.0000e+00,\n",
       "        2.0000e+00, 9.0000e+00, 1.1000e+01, 1.4000e+01, 2.5000e+01,\n",
       "        2.9000e+01, 4.5000e+01, 4.1000e+01, 9.9000e+01, 7.9000e+01,\n",
       "        1.6000e+02, 1.4600e+02, 3.0200e+02, 2.5400e+02, 5.4800e+02,\n",
       "        3.9500e+02, 7.8100e+02, 7.8100e+02, 1.1060e+03, 1.3010e+03,\n",
       "        1.6410e+03, 2.8930e+03, 1.4550e+03, 4.4110e+03, 3.9720e+03,\n",
       "        4.6240e+03, 6.1060e+03, 5.8750e+03, 8.4240e+03, 9.0760e+03,\n",
       "        1.0221e+04, 1.2268e+04, 1.3488e+04, 1.5791e+04, 2.0416e+04,\n",
       "        1.7128e+04, 2.3963e+04, 2.0511e+04, 3.0004e+04, 2.3512e+04,\n",
       "        3.2644e+04, 3.7607e+04, 2.4959e+04, 4.2396e+04, 2.5472e+04,\n",
       "        4.6190e+04, 3.2809e+04, 4.2377e+04, 3.5915e+04, 3.7970e+04,\n",
       "        3.2407e+04, 3.8515e+04, 3.2604e+04, 3.4132e+04, 2.6123e+04,\n",
       "        3.1568e+04, 2.3588e+04, 2.5343e+04, 2.1657e+04, 2.1004e+04,\n",
       "        1.8344e+04, 1.4929e+04, 1.3061e+04, 1.2706e+04, 8.5120e+03,\n",
       "        1.0474e+04, 5.1470e+03, 7.7210e+03, 2.9850e+03, 5.6050e+03,\n",
       "        1.7720e+03, 3.8640e+03, 1.1540e+03, 2.2650e+03, 5.3900e+02,\n",
       "        1.4790e+03, 2.4300e+02, 8.5500e+02, 1.2800e+02, 4.6000e+02,\n",
       "        6.8000e+01, 2.2600e+02, 3.6000e+01, 1.0300e+02, 1.7000e+01,\n",
       "        5.1000e+01, 1.2000e+01, 2.0000e+01, 2.0000e+00, 1.1000e+01,\n",
       "        1.0000e+00, 5.0000e+00, 0.0000e+00, 1.0000e+00, 2.0000e+00]),\n",
       " array([-14.40625   , -14.14819458, -13.89013916, -13.63208374,\n",
       "        -13.37402832, -13.1159729 , -12.85791748, -12.59986206,\n",
       "        -12.34180664, -12.08375122, -11.8256958 , -11.56764038,\n",
       "        -11.30958496, -11.05152954, -10.79347412, -10.5354187 ,\n",
       "        -10.27736328, -10.01930786,  -9.76125244,  -9.50319702,\n",
       "         -9.2451416 ,  -8.98708618,  -8.72903076,  -8.47097534,\n",
       "         -8.21291992,  -7.9548645 ,  -7.69680908,  -7.43875366,\n",
       "         -7.18069824,  -6.92264282,  -6.6645874 ,  -6.40653198,\n",
       "         -6.14847656,  -5.89042114,  -5.63236572,  -5.3743103 ,\n",
       "         -5.11625488,  -4.85819946,  -4.60014404,  -4.34208862,\n",
       "         -4.0840332 ,  -3.82597778,  -3.56792236,  -3.30986694,\n",
       "         -3.05181152,  -2.7937561 ,  -2.53570068,  -2.27764526,\n",
       "         -2.01958984,  -1.76153442,  -1.503479  ,  -1.24542358,\n",
       "         -0.98736816,  -0.72931274,  -0.47125732,  -0.2132019 ,\n",
       "          0.04485352,   0.30290894,   0.56096436,   0.81901978,\n",
       "          1.0770752 ,   1.33513062,   1.59318604,   1.85124146,\n",
       "          2.10929687,   2.36735229,   2.62540771,   2.88346313,\n",
       "          3.14151855,   3.39957397,   3.65762939,   3.91568481,\n",
       "          4.17374023,   4.43179565,   4.68985107,   4.94790649,\n",
       "          5.20596191,   5.46401733,   5.72207275,   5.98012817,\n",
       "          6.23818359,   6.49623901,   6.75429443,   7.01234985,\n",
       "          7.27040527,   7.52846069,   7.78651611,   8.04457153,\n",
       "          8.30262695,   8.56068237,   8.81873779,   9.07679321,\n",
       "          9.33484863,   9.59290405,   9.85095947,  10.10901489,\n",
       "         10.36707031,  10.62512573,  10.88318115,  11.14123657,\n",
       "         11.39929199]),\n",
       " <a list of 100 Patch objects>)"
      ]
     },
     "execution_count": 5,
     "metadata": {},
     "output_type": "execute_result"
    },
    {
     "data": {
      "image/png": "[encoded data removed]",
      "text/plain": [
       "<Figure size 432x288 with 1 Axes>"
      ]
     },
     "metadata": {
      "needs_background": "light"
     },
     "output_type": "display_data"
    }
   ],
   "source": [
    "plt.hist(a, bins=100)"
   ]
  },
  {
   "cell_type": "code",
   "execution_count": 6,
   "metadata": {},
   "outputs": [
    {
     "data": {
      "text/plain": [
       "0.899873"
      ]
     },
     "execution_count": 6,
     "metadata": {},
     "output_type": "execute_result"
    }
   ],
   "source": [
    "(a[-4.5 < a] < 6).sum() / len(a)"
   ]
  },
  {
   "cell_type": "code",
   "execution_count": null,
   "metadata": {},
   "outputs": [],
   "source": []
  }
 ],
 "metadata": {
  "kernelspec": {
   "display_name": "Python 3",
   "language": "python",
   "name": "python3"
  },
  "language_info": {
   "codemirror_mode": {
    "name": "ipython",
    "version": 3
   },
   "file_extension": ".py",
   "mimetype": "text/x-python",
   "name": "python",
   "nbconvert_exporter": "python",
   "pygments_lexer": "ipython3",
   "version": "3.7.4"
  }
 },
 "nbformat": 4,
 "nbformat_minor": 4
}
