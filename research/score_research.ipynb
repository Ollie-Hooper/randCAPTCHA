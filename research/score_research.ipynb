{
 "cells": [
  {
   "cell_type": "code",
   "execution_count": 1,
   "metadata": {},
   "outputs": [],
   "source": [
    "%matplotlib inline\n",
    "import matplotlib.pyplot as plt\n",
    "import numpy as np"
   ]
  },
  {
   "cell_type": "code",
   "execution_count": 2,
   "metadata": {},
   "outputs": [],
   "source": [
    "a = np.loadtxt('scores.txt', delimiter=',')"
   ]
  },
  {
   "cell_type": "code",
   "execution_count": 3,
   "metadata": {},
   "outputs": [
    {
     "data": {
      "text/plain": [
       "-0.9223328155954853"
      ]
     },
     "execution_count": 3,
     "metadata": {},
     "output_type": "execute_result"
    }
   ],
   "source": [
    "a.mean()"
   ]
  },
  {
   "cell_type": "code",
   "execution_count": 4,
   "metadata": {},
   "outputs": [
    {
     "data": {
      "text/plain": [
       "2.795373389644303"
      ]
     },
     "execution_count": 4,
     "metadata": {},
     "output_type": "execute_result"
    }
   ],
   "source": [
    "a.std()"
   ]
  },
  {
   "cell_type": "code",
   "execution_count": 5,
   "metadata": {},
   "outputs": [
    {
     "data": {
      "text/plain": [
       "(array([1.0000e+00, 0.0000e+00, 0.0000e+00, 1.0000e+00, 0.0000e+00,\n",
       "        0.0000e+00, 0.0000e+00, 5.0000e+00, 0.0000e+00, 0.0000e+00,\n",
       "        6.0000e+00, 2.0000e+00, 0.0000e+00, 1.0000e+00, 3.0000e+01,\n",
       "        0.0000e+00, 1.0000e+00, 1.6000e+01, 1.1500e+02, 2.0000e+00,\n",
       "        2.4000e+01, 3.4000e+02, 1.2000e+01, 1.3800e+02, 5.4000e+01,\n",
       "        7.0300e+02, 5.9000e+01, 5.8500e+02, 1.5310e+03, 2.8200e+02,\n",
       "        1.6730e+03, 1.7100e+02, 2.6470e+03, 1.1870e+03, 4.8190e+03,\n",
       "        3.9150e+03, 2.3000e+01, 1.2442e+04, 1.5520e+03, 5.1800e+03,\n",
       "        8.0300e+03, 1.9810e+04, 6.1190e+03, 9.9500e+02, 3.8593e+04,\n",
       "        9.4390e+03, 1.0671e+04, 2.7454e+04, 2.7419e+04, 2.6233e+04,\n",
       "        9.0990e+03, 6.6077e+04, 2.7536e+04, 2.8346e+04, 4.5047e+04,\n",
       "        2.2473e+04, 5.6902e+04, 1.9881e+04, 4.3279e+04, 5.4449e+04,\n",
       "        4.7751e+04, 3.7581e+04, 9.0780e+03, 5.9865e+04, 2.8803e+04,\n",
       "        2.3301e+04, 3.0881e+04, 3.9386e+04, 1.9980e+04, 1.8120e+03,\n",
       "        3.0275e+04, 2.1107e+04, 5.8840e+03, 9.3110e+03, 1.3543e+04,\n",
       "        1.0510e+04, 2.0200e+02, 3.7720e+03, 1.1320e+04, 7.0800e+02,\n",
       "        1.3200e+03, 2.6030e+03, 2.4230e+03, 1.8900e+02, 3.5200e+02,\n",
       "        1.7820e+03, 4.3000e+01, 0.0000e+00, 1.8800e+02, 4.5600e+02,\n",
       "        1.0000e+01, 2.0000e+01, 1.2700e+02, 1.0000e+00, 0.0000e+00,\n",
       "        9.0000e+00, 3.4000e+01, 0.0000e+00, 0.0000e+00, 4.0000e+00]),\n",
       " array([-17.25      , -16.96750763, -16.68501526, -16.40252289,\n",
       "        -16.12003052, -15.83753815, -15.55504578, -15.27255341,\n",
       "        -14.99006104, -14.70756866, -14.42507629, -14.14258392,\n",
       "        -13.86009155, -13.57759918, -13.29510681, -13.01261444,\n",
       "        -12.73012207, -12.4476297 , -12.16513733, -11.88264496,\n",
       "        -11.60015259, -11.31766022, -11.03516785, -10.75267548,\n",
       "        -10.47018311, -10.18769073,  -9.90519836,  -9.62270599,\n",
       "         -9.34021362,  -9.05772125,  -8.77522888,  -8.49273651,\n",
       "         -8.21024414,  -7.92775177,  -7.6452594 ,  -7.36276703,\n",
       "         -7.08027466,  -6.79778229,  -6.51528992,  -6.23279755,\n",
       "         -5.95030518,  -5.66781281,  -5.38532043,  -5.10282806,\n",
       "         -4.82033569,  -4.53784332,  -4.25535095,  -3.97285858,\n",
       "         -3.69036621,  -3.40787384,  -3.12538147,  -2.8428891 ,\n",
       "         -2.56039673,  -2.27790436,  -1.99541199,  -1.71291962,\n",
       "         -1.43042725,  -1.14793488,  -0.8654425 ,  -0.58295013,\n",
       "         -0.30045776,  -0.01796539,   0.26452698,   0.54701935,\n",
       "          0.82951172,   1.11200409,   1.39449646,   1.67698883,\n",
       "          1.9594812 ,   2.24197357,   2.52446594,   2.80695831,\n",
       "          3.08945068,   3.37194305,   3.65443542,   3.9369278 ,\n",
       "          4.21942017,   4.50191254,   4.78440491,   5.06689728,\n",
       "          5.34938965,   5.63188202,   5.91437439,   6.19686676,\n",
       "          6.47935913,   6.7618515 ,   7.04434387,   7.32683624,\n",
       "          7.60932861,   7.89182098,   8.17431335,   8.45680573,\n",
       "          8.7392981 ,   9.02179047,   9.30428284,   9.58677521,\n",
       "          9.86926758,  10.15175995,  10.43425232,  10.71674469,\n",
       "         10.99923706]),\n",
       " <a list of 100 Patch objects>)"
      ]
     },
     "execution_count": 5,
     "metadata": {},
     "output_type": "execute_result"
    },
    {
     "data": {
      "image/png": "[encoded data removed]",
      "text/plain": [
       "<Figure size 432x288 with 1 Axes>"
      ]
     },
     "metadata": {
      "needs_background": "light"
     },
     "output_type": "display_data"
    }
   ],
   "source": [
    "plt.hist(a, bins=100)"
   ]
  },
  {
   "cell_type": "code",
   "execution_count": null,
   "metadata": {},
   "outputs": [],
   "source": []
  }
 ],
 "metadata": {
  "kernelspec": {
   "display_name": "Python 3",
   "language": "python",
   "name": "python3"
  },
  "language_info": {
   "codemirror_mode": {
    "name": "ipython",
    "version": 3
   },
   "file_extension": ".py",
   "mimetype": "text/x-python",
   "name": "python",
   "nbconvert_exporter": "python",
   "pygments_lexer": "ipython3",
   "version": "3.7.6"
  }
 },
 "nbformat": 4,
 "nbformat_minor": 4
}
